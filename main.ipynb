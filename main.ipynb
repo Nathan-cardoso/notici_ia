{
 "cells": [
  {
   "cell_type": "markdown",
   "id": "724f77f2",
   "metadata": {},
   "source": [
    "# Notici_IA \n"
   ]
  },
  {
   "cell_type": "markdown",
   "id": "3cb0d3a7",
   "metadata": {},
   "source": [
    "Adicionando a bibliotecas **pandas** ao projeto para poder ler o arquivo csv referente as notícias públicas no brasil"
   ]
  },
  {
   "cell_type": "code",
   "execution_count": 37,
   "id": "9d37b16f",
   "metadata": {},
   "outputs": [
    {
     "name": "stdout",
     "output_type": "stream",
     "text": [
      "<class 'pandas.core.frame.DataFrame'>\n",
      "RangeIndex: 10109 entries, 0 to 10108\n",
      "Data columns (total 6 columns):\n",
      " #   Column             Non-Null Count  Dtype \n",
      "---  ------             --------------  ----- \n",
      " 0   data               10105 non-null  object\n",
      " 1   url_noticia        10109 non-null  object\n",
      " 2   url_noticia_curto  10109 non-null  object\n",
      " 3   titulo             10109 non-null  object\n",
      " 4   conteudo_noticia   10103 non-null  object\n",
      " 5   assunto            10109 non-null  object\n",
      "dtypes: object(6)\n",
      "memory usage: 474.0+ KB\n"
     ]
    }
   ],
   "source": [
    "\n",
    "import pandas as pd \n",
    "\n",
    "data = pd.read_csv('dataset/Historico_de_materias.csv')\n",
    "\n",
    "\n",
    "data.info()\n"
   ]
  },
  {
   "cell_type": "markdown",
   "id": "3efdd45d",
   "metadata": {},
   "source": [
    "O comando abaixo faz uma rápida verificação de quais são os assuntos pautados nas notícis."
   ]
  },
  {
   "cell_type": "code",
   "execution_count": 38,
   "id": "9f00d352",
   "metadata": {},
   "outputs": [
    {
     "data": {
      "text/plain": [
       "array(['economia', 'esportes', 'politica', 'famosos', 'tecnologia'],\n",
       "      dtype=object)"
      ]
     },
     "execution_count": 38,
     "metadata": {},
     "output_type": "execute_result"
    }
   ],
   "source": [
    "data.assunto.unique()"
   ]
  },
  {
   "cell_type": "markdown",
   "id": "1fa9209a",
   "metadata": {},
   "source": [
    "Filtramos as notícias com os assuntos sobre tecnologia, onde foram removidas as colunas que eventualmente tinham dados faltantes e então eliminamos a coluna de url curta."
   ]
  },
  {
   "cell_type": "code",
   "execution_count": 39,
   "id": "d34c09e9",
   "metadata": {},
   "outputs": [
    {
     "data": {
      "text/html": [
       "<div>\n",
       "<style scoped>\n",
       "    .dataframe tbody tr th:only-of-type {\n",
       "        vertical-align: middle;\n",
       "    }\n",
       "\n",
       "    .dataframe tbody tr th {\n",
       "        vertical-align: top;\n",
       "    }\n",
       "\n",
       "    .dataframe thead th {\n",
       "        text-align: right;\n",
       "    }\n",
       "</style>\n",
       "<table border=\"1\" class=\"dataframe\">\n",
       "  <thead>\n",
       "    <tr style=\"text-align: right;\">\n",
       "      <th></th>\n",
       "      <th>data</th>\n",
       "      <th>url_noticia</th>\n",
       "      <th>titulo</th>\n",
       "      <th>conteudo_noticia</th>\n",
       "      <th>assunto</th>\n",
       "    </tr>\n",
       "  </thead>\n",
       "  <tbody>\n",
       "    <tr>\n",
       "      <th>6472</th>\n",
       "      <td>2019-01-03</td>\n",
       "      <td>https://web.archive.org/web/20190103202035/htt...</td>\n",
       "      <td>Ações da Apple despencam após anúncio de menor...</td>\n",
       "      <td>A Apple atordoou investidores com um anúncio ...</td>\n",
       "      <td>tecnologia</td>\n",
       "    </tr>\n",
       "    <tr>\n",
       "      <th>6473</th>\n",
       "      <td>2019-01-03</td>\n",
       "      <td>https://web.archive.org/web/20190103202035/htt...</td>\n",
       "      <td>Blockchain: tecnologia que irá revolucionar a ...</td>\n",
       "      <td>O blockchain ganhou notoriedade devido a popu...</td>\n",
       "      <td>tecnologia</td>\n",
       "    </tr>\n",
       "    <tr>\n",
       "      <th>6474</th>\n",
       "      <td>2019-01-03</td>\n",
       "      <td>https://web.archive.org/web/20190103202035/htt...</td>\n",
       "      <td>Entenda o que é tecnologia quântica, novo camp...</td>\n",
       "      <td>A informação circulou apenas em veículos espe...</td>\n",
       "      <td>tecnologia</td>\n",
       "    </tr>\n",
       "    <tr>\n",
       "      <th>6475</th>\n",
       "      <td>2019-01-03</td>\n",
       "      <td>https://web.archive.org/web/20190103202035/htt...</td>\n",
       "      <td>WhatsApp: como visualizar mensagens que foram ...</td>\n",
       "      <td>(Se você tem alguma dúvida sobre tecnologia, ...</td>\n",
       "      <td>tecnologia</td>\n",
       "    </tr>\n",
       "    <tr>\n",
       "      <th>6476</th>\n",
       "      <td>2019-01-05</td>\n",
       "      <td>https://web.archive.org/web/20190105165600/htt...</td>\n",
       "      <td>Ações da Apple voltam a subir, mas empresa per...</td>\n",
       "      <td>As ações da Apple voltaram a subir nesta sext...</td>\n",
       "      <td>tecnologia</td>\n",
       "    </tr>\n",
       "    <tr>\n",
       "      <th>...</th>\n",
       "      <td>...</td>\n",
       "      <td>...</td>\n",
       "      <td>...</td>\n",
       "      <td>...</td>\n",
       "      <td>...</td>\n",
       "    </tr>\n",
       "    <tr>\n",
       "      <th>10104</th>\n",
       "      <td>2018-12-22</td>\n",
       "      <td>https://web.archive.org/web/20181222014135/htt...</td>\n",
       "      <td>Brasil ganha 10 milhões de internautas em 1 an...</td>\n",
       "      <td>Em apenas 1 ano, o número de internautas no B...</td>\n",
       "      <td>tecnologia</td>\n",
       "    </tr>\n",
       "    <tr>\n",
       "      <th>10105</th>\n",
       "      <td>2018-12-27</td>\n",
       "      <td>https://web.archive.org/web/20181227111959/htt...</td>\n",
       "      <td>Como a Coreia do Norte quer usar alta tecnolog...</td>\n",
       "      <td>A Coreia do Norte costuma ostentar seu aparat...</td>\n",
       "      <td>tecnologia</td>\n",
       "    </tr>\n",
       "    <tr>\n",
       "      <th>10106</th>\n",
       "      <td>2018-12-27</td>\n",
       "      <td>https://web.archive.org/web/20181227111959/htt...</td>\n",
       "      <td>Venda de computadores desacelera por eleições ...</td>\n",
       "      <td>As vendas de computadores no Brasil desaceler...</td>\n",
       "      <td>tecnologia</td>\n",
       "    </tr>\n",
       "    <tr>\n",
       "      <th>10107</th>\n",
       "      <td>2018-12-28</td>\n",
       "      <td>https://web.archive.org/web/20181228065113/htt...</td>\n",
       "      <td>Instagram passa a mostrar posts na horizontal,...</td>\n",
       "      <td>O Instagram liberou na tarde desta quinta-fei...</td>\n",
       "      <td>tecnologia</td>\n",
       "    </tr>\n",
       "    <tr>\n",
       "      <th>10108</th>\n",
       "      <td>2018-12-28</td>\n",
       "      <td>https://web.archive.org/web/20181228065113/htt...</td>\n",
       "      <td>Instagram: como adicionar uma contagem regress...</td>\n",
       "      <td>O ano está terminando, e com ele começa a tem...</td>\n",
       "      <td>tecnologia</td>\n",
       "    </tr>\n",
       "  </tbody>\n",
       "</table>\n",
       "<p>612 rows × 5 columns</p>\n",
       "</div>"
      ],
      "text/plain": [
       "             data                                        url_noticia  \\\n",
       "6472   2019-01-03  https://web.archive.org/web/20190103202035/htt...   \n",
       "6473   2019-01-03  https://web.archive.org/web/20190103202035/htt...   \n",
       "6474   2019-01-03  https://web.archive.org/web/20190103202035/htt...   \n",
       "6475   2019-01-03  https://web.archive.org/web/20190103202035/htt...   \n",
       "6476   2019-01-05  https://web.archive.org/web/20190105165600/htt...   \n",
       "...           ...                                                ...   \n",
       "10104  2018-12-22  https://web.archive.org/web/20181222014135/htt...   \n",
       "10105  2018-12-27  https://web.archive.org/web/20181227111959/htt...   \n",
       "10106  2018-12-27  https://web.archive.org/web/20181227111959/htt...   \n",
       "10107  2018-12-28  https://web.archive.org/web/20181228065113/htt...   \n",
       "10108  2018-12-28  https://web.archive.org/web/20181228065113/htt...   \n",
       "\n",
       "                                                  titulo  \\\n",
       "6472   Ações da Apple despencam após anúncio de menor...   \n",
       "6473   Blockchain: tecnologia que irá revolucionar a ...   \n",
       "6474   Entenda o que é tecnologia quântica, novo camp...   \n",
       "6475   WhatsApp: como visualizar mensagens que foram ...   \n",
       "6476   Ações da Apple voltam a subir, mas empresa per...   \n",
       "...                                                  ...   \n",
       "10104  Brasil ganha 10 milhões de internautas em 1 an...   \n",
       "10105  Como a Coreia do Norte quer usar alta tecnolog...   \n",
       "10106  Venda de computadores desacelera por eleições ...   \n",
       "10107  Instagram passa a mostrar posts na horizontal,...   \n",
       "10108  Instagram: como adicionar uma contagem regress...   \n",
       "\n",
       "                                        conteudo_noticia     assunto  \n",
       "6472    A Apple atordoou investidores com um anúncio ...  tecnologia  \n",
       "6473    O blockchain ganhou notoriedade devido a popu...  tecnologia  \n",
       "6474    A informação circulou apenas em veículos espe...  tecnologia  \n",
       "6475    (Se você tem alguma dúvida sobre tecnologia, ...  tecnologia  \n",
       "6476    As ações da Apple voltaram a subir nesta sext...  tecnologia  \n",
       "...                                                  ...         ...  \n",
       "10104   Em apenas 1 ano, o número de internautas no B...  tecnologia  \n",
       "10105   A Coreia do Norte costuma ostentar seu aparat...  tecnologia  \n",
       "10106   As vendas de computadores no Brasil desaceler...  tecnologia  \n",
       "10107   O Instagram liberou na tarde desta quinta-fei...  tecnologia  \n",
       "10108   O ano está terminando, e com ele começa a tem...  tecnologia  \n",
       "\n",
       "[612 rows x 5 columns]"
      ]
     },
     "execution_count": 39,
     "metadata": {},
     "output_type": "execute_result"
    }
   ],
   "source": [
    "technology_news = data[data['assunto'] == 'tecnologia']\n",
    "\n",
    "technology_news.isnull()\n",
    "\n",
    "technology_news = technology_news.dropna()\n",
    "\n",
    "technology_news.drop(columns='url_noticia_curto')\n"
   ]
  },
  {
   "cell_type": "markdown",
   "id": "bce55d9d",
   "metadata": {},
   "source": [
    "Nesse bloco de código é utiliza a api do **Open Router** para gerar um promp de resumo em cima das notícias de tecnologia, foi escolhido apenas gerar o promp a partir da conteúdo da notícia, pois, o retorno é mais rápido."
   ]
  },
  {
   "cell_type": "code",
   "execution_count": 45,
   "id": "cc4f6dc4",
   "metadata": {},
   "outputs": [
    {
     "name": "stdout",
     "output_type": "stream",
     "text": [
      "**Resumo das Notícias (Baseado no Dataframe Fornecido):**\n",
      "\n",
      "O período analisado retrata um setor de tecnologia em ebulição, marcado por altos e baixos, inovações e escândalos. Grandes empresas como **Apple, Amazon, Google, Facebook e Samsung** dominam as manchetes. A **Apple** vive momentos voláteis, com quedas e recuperações nas ações, anúncio de novos produtos como o iOS 13 e problemas técnicos para resolver. A **Amazon** consolida seu poderio, tornando-se a empresa mais valiosa do mundo, enquanto seu fundador, Jeff Bezos, enfrenta questões pessoais e de segurança.\n",
      "\n",
      "O **Facebook** e seu CEO, Mark Zuckerberg, estão constantemente sob pressão devido a uma série de crises: vazamentos de dados massivos (como o caso Cambridge Analytica), falhas de segurança graves, investigações regulatórias e a propagação de desinformação em sua plataforma. A empresa anuncia medidas para combater fake news, mas sofre com quedas de reputação e até mesmo uma pane global que derrubou seus aplicativos.\n",
      "\n",
      "A segurança cibernética é um tema urgente e recorrente. **Vazamentos de dados** em grande escala, golpes aplicados via WhatsApp e outros apps, e vulnerabilidades críticas descobertas em softiais são frequentes. A **WhatsApp**, também do Facebook, é palco de golpes e anuncia restrições no encaminhamento de mensagens para combater a desinformação.\n",
      "\n",
      "A **guerra comercial e tecnológica entre EUA e China** tem a Huawei como protagonista, enfrentando restrições e acusações de espionagem. Outros temas em destaque incluem o avanço do **5G**, a popularidade de aplicativos de mobilidade urbana como **Uber** e **99**, a febre de apps como **FaceApp** e **Zoom**, e a crescente regulação governamental sobre o setor. A **CES**, maior feira de tecnologia do mundo, também é um evento de destaque no período.\n",
      "\n",
      "**Insights:**\n",
      "\n",
      "Analisando o conjunto de notícias, fica evidente que o período foi definido por dois eixos principais: a **inovação disruptiva** e a **crise de confiança**. Enquanto as empresas avançam em tecnologias como IA, IoT e pagamentos digitais, elas simultaneamente lutam para conter danos colaterais de sua própria escala e influência. A segurança e a privacidade do usuário deixaram de ser questões técnicas secundárias e se tornaram o centro do debate público, impulsionando ações de reguladores em todo o mundo. O dataframe sugere um ponto de inflexão onde a sociedade começou a demandar accountability e responsabilidade ética das gigantes tech, um movimento que deve moldar o futuro do setor.\n"
     ]
    }
   ],
   "source": [
    "import os\n",
    "\n",
    "from dotenv import load_dotenv\n",
    "from openai import OpenAI\n",
    "\n",
    "\n",
    "load_dotenv()\n",
    "\n",
    "client = OpenAI(\n",
    "\n",
    "  base_url=\"https://openrouter.ai/api/v1\",\n",
    "\n",
    "  api_key=os.getenv(\"API_KEY\"),\n",
    "\n",
    ")\n",
    "\n",
    "completion = client.chat.completions.create(\n",
    "\n",
    "  model=\"deepseek/deepseek-chat-v3.1:free\",\n",
    "\n",
    "  messages=[\n",
    "\n",
    "    {\n",
    "\n",
    "      \"role\": \"user\",\n",
    "\n",
    "      \"content\": \"Faça um resumo de 20 linhas em português brasil, sobre os as nóticias e adicione um paragrafo de insights no final, diante o dataframe:\" + technology_news['conteudo_noticia'].to_string()\n",
    "\n",
    "    }\n",
    "\n",
    "  ]\n",
    "\n",
    ")\n",
    "\n",
    "print(completion.choices[0].message.content)"
   ]
  },
  {
   "cell_type": "markdown",
   "id": "15e825fb",
   "metadata": {},
   "source": [
    "Logo em seguida, o output chegado pela API é salvo em um arquivo txt **resumo_de_noticias_tech_no_brasil**"
   ]
  },
  {
   "cell_type": "code",
   "execution_count": 46,
   "id": "7346cb17",
   "metadata": {},
   "outputs": [
    {
     "name": "stdout",
     "output_type": "stream",
     "text": [
      "Resumo salvo em resumo_de_assuntos_tech_no_brasil.txt\n"
     ]
    }
   ],
   "source": [
    "resumo = completion.choices[0].message.content\n",
    "\n",
    "with open(\"resumo_de_assuntos_tech_no_brasil.txt\", \"w\", ) as f:\n",
    "    f.write(resumo)\n",
    "\n",
    "print(\"Resumo salvo em resumo_de_assuntos_tech_no_brasil.txt\")"
   ]
  }
 ],
 "metadata": {
  "kernelspec": {
   "display_name": ".venv",
   "language": "python",
   "name": "python3"
  },
  "language_info": {
   "codemirror_mode": {
    "name": "ipython",
    "version": 3
   },
   "file_extension": ".py",
   "mimetype": "text/x-python",
   "name": "python",
   "nbconvert_exporter": "python",
   "pygments_lexer": "ipython3",
   "version": "3.11.2"
  }
 },
 "nbformat": 4,
 "nbformat_minor": 5
}
